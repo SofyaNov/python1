{
 "cells": [
  {
   "cell_type": "markdown",
   "id": "e4d450c2",
   "metadata": {},
   "source": [
    "# Символьное дифференцирование"
   ]
  },
  {
   "cell_type": "markdown",
   "id": "ca42b161",
   "metadata": {
    "ExecuteTime": {
     "end_time": "2024-11-12T17:23:33.620558Z",
     "start_time": "2024-11-12T17:23:33.612887Z"
    }
   },
   "source": [
    "## Порядок сдачи домашнего"
   ]
  },
  {
   "cell_type": "markdown",
   "id": "1ff1df47",
   "metadata": {},
   "source": [
    "Вам требуется создать гит репозиторий куда вы будете складывать все ваши домашние. Под каждое домашнее вы создаете отдельную ветку куда вносите все изменения в рамках домашнего. Как только домашнее готово - создаете пулл реквест (обратите внимание что в пулл реквесте должны быть отражены все изменения в рамках домашнего) или присылаете код в СДО. Ревьювером назначаете http://github.com/michael15346/ и https://github.com/shgpavel . Перед сдачей проверьте код, напишите тесты. Не забудьте про PEP8, например, с помощью flake8. Задание нужно делать в jupyter notebook.\n",
    "\n",
    "**Дедлайн - 18 ноября 10:00**"
   ]
  },
  {
   "cell_type": "markdown",
   "id": "f9fd13a2",
   "metadata": {},
   "source": [
    "Символьное дифференцирование это инструмент для автоматического вывода формул производных, который открывает возможности для анализа сложных функций, оптимизации процессов и работы с уравнениями. Мы уже на многих занятиях сталкивались с этой темой - давайте попробуем реализовать собственное!"
   ]
  },
  {
   "cell_type": "markdown",
   "id": "cf3ccecf",
   "metadata": {},
   "source": [
    "## Выражение"
   ]
  },
  {
   "cell_type": "markdown",
   "id": "096fa612",
   "metadata": {},
   "source": [
    "Создадим основной класс `Expr`, от которого будут наследоваться различные типы выражений, такие как константы, переменные, суммы, произведения и другие. Класс должен содержать методы:\n",
    "* `__call__`, который будет вычислять значение выражения, используя переданный ему контекст (словарь, связывающий имена переменных с их значениями).\n",
    "* `d`, принимающий имя переменной, по которой требуется вычислить производную, и возвращающий выражение, представляющее производную по этой переменной.\n",
    "\n",
    "Эти методы нужно будет переопределить в каждом из подклассов для корректного выполнения операций."
   ]
  },
  {
   "cell_type": "code",
   "execution_count": 136,
   "id": "7c73322e",
   "metadata": {
    "ExecuteTime": {
     "end_time": "2024-11-12T16:51:15.514301Z",
     "start_time": "2024-11-12T16:51:15.489368Z"
    }
   },
   "outputs": [],
   "source": [
    "class Expr:\n",
    "    def __call__(self, **context):\n",
    "        pass\n",
    "    \n",
    "    def d(self, wrt):\n",
    "        pass\n",
    "\n",
    "    def __pos__(self):\n",
    "        return Const(1)*self\n",
    "\n",
    "    def __neg__(self):\n",
    "        return Const(-1)*self\n",
    "\n",
    "    def __add__(self, other):\n",
    "        return Sum(self, other)\n",
    "    \n",
    "    def __sub__(self, other):\n",
    "        return Sum(self, Const(-1) * other)\n",
    "    \n",
    "    def __mul__(self, other):\n",
    "        return Product(self, other)\n",
    "    \n",
    "    def __truediv__(self, other):\n",
    "        return Fraction(self, other)\n",
    "\n",
    "    "
   ]
  },
  {
   "cell_type": "markdown",
   "id": "1a3f58d5",
   "metadata": {},
   "source": [
    "Создайте классы для двух видов выражений: `Const`, представляющий константу, и` Var`, представляющий переменную. Чтобы упростить использование, вместо обращения к конструкторам этих классов, будем использовать их однобуквенные сокращённые обозначения.\n",
    "\n",
    "**Пример использования:**\n",
    "```python\n",
    "V = Var\n",
    "C = Const\n",
    "\n",
    "C(5)()\n",
    "5\n",
    "C(5).d(V(\"x\"))()\n",
    "0\n",
    "V(\"x\")(x=5)\n",
    "5\n",
    "V(\"x\").d(V(\"y\"))(x=5)\n",
    "0\n",
    "V(\"x\").d(V(\"x\"))(x=5)\n",
    "1\n",
    "```"
   ]
  },
  {
   "cell_type": "code",
   "execution_count": 137,
   "id": "aa4e32b4",
   "metadata": {
    "ExecuteTime": {
     "end_time": "2024-11-12T16:42:49.906141Z",
     "start_time": "2024-11-12T16:42:49.888604Z"
    }
   },
   "outputs": [],
   "source": [
    "class Var(Expr):\n",
    "    def __init__(self, var):\n",
    "        self.var = var\n",
    "\n",
    "    def __call__(self, **context):\n",
    "        return context[self.var]\n",
    "\n",
    "    def d(self, wrt):\n",
    "        if self.var == wrt.var:\n",
    "            return Const(1)\n",
    "        return Const(0)\n",
    " \n",
    "class Const(Expr):\n",
    "    def __init__(self, value):\n",
    "        self.value = value\n",
    "    \n",
    "    def __call__(self, **context):\n",
    "        return self.value\n",
    "    \n",
    "    def d(self, wrt):\n",
    "        return Const(0)\n",
    "\n",
    "\n",
    "V = Var\n",
    "C = Const"
   ]
  },
  {
   "cell_type": "markdown",
   "id": "4a4c72ce",
   "metadata": {},
   "source": [
    "## Бинарные операции"
   ]
  },
  {
   "cell_type": "markdown",
   "id": "f87be166",
   "metadata": {},
   "source": [
    "Создайте классы для бинарных операций: `Sum`, `Product` и `Fraction`. Поскольку бинарные операции определяются двумя операндами, их конструктор будет одинаковым для всех этих классов. Поэтому его можно вынести в отдельный базовый класс, чтобы избежать дублирования кода."
   ]
  },
  {
   "cell_type": "code",
   "execution_count": 138,
   "id": "6aaf6b13",
   "metadata": {
    "ExecuteTime": {
     "end_time": "2024-11-12T16:51:24.856165Z",
     "start_time": "2024-11-12T16:51:24.844203Z"
    }
   },
   "outputs": [],
   "source": [
    "class BinOp(Expr):\n",
    "    def __init__(self, expr1, expr2):\n",
    "        self.expr1, self.expr2 = expr1, expr2"
   ]
  },
  {
   "cell_type": "markdown",
   "id": "3e335e95",
   "metadata": {},
   "source": [
    "Реализуйте `Sum` для суммирования, `Product` для умножения и `Fraction` для деления.\n",
    "\n",
    "**Пример использования:**\n",
    "\n",
    "```python\n",
    "Sum(V(\"x\"), Fraction(V(\"x\"), V(\"y\")))(x=5, y=2.5)\n",
    "7.0\n",
    "Fraction(Sum(C(5), V(\"y\")), Product(V(\"x\"), V(\"y\")))(x=1, y=2)\n",
    "3.5\n",
    "Fraction(Sum(C(5), V(\"y\")), Product(V(\"x\"), V(\"y\"))).d(V(\"x\"))(x=1, y=2)\n",
    "-3.5\n",
    "Fraction(Sum(C(5), V(\"y\")), Product(V(\"x\"), V(\"y\"))).d(V(\"y\"))(x=1, y=2)\n",
    "-1.25\n",
    "```"
   ]
  },
  {
   "cell_type": "code",
   "execution_count": 139,
   "id": "cc5c5599",
   "metadata": {},
   "outputs": [],
   "source": [
    "class Sum(BinOp):\n",
    "    def d(self, wrt):\n",
    "        return self.expr1.d(wrt) + self.expr2.d(wrt)\n",
    "        \n",
    "    def __call__(self, **context):\n",
    "        return self.expr1(**context) + self.expr2(**context)\n",
    "    \n",
    "\n",
    "class Product(BinOp):\n",
    "    def __call__(self, **context):\n",
    "        return self.expr1(**context) * self.expr2(**context)\n",
    "    \n",
    "    def d(self, wrt):\n",
    "        u = self.expr1\n",
    "        du = self.expr1.d(wrt)\n",
    "        v = self.expr2\n",
    "        dv = self.expr2.d(wrt)\n",
    "\n",
    "        return u*dv + v*du\n",
    "\n",
    "class Fraction(BinOp):\n",
    "    def __call__(self, **context):\n",
    "        return self.expr1(**context) / self.expr2(**context)\n",
    "    \n",
    "    def d(self, wrt):\n",
    "        u = self.expr1\n",
    "        du = self.expr1.d(wrt)\n",
    "        v = self.expr2\n",
    "        dv = self.expr2.d(wrt)\n",
    "\n",
    "        return (v*du - u*dv) / (v * v)"
   ]
  },
  {
   "cell_type": "code",
   "execution_count": 140,
   "id": "ca1c45a9",
   "metadata": {},
   "outputs": [
    {
     "data": {
      "text/plain": [
       "1"
      ]
     },
     "execution_count": 140,
     "metadata": {},
     "output_type": "execute_result"
    }
   ],
   "source": [
    "(V(\"y\") + V(\"x\")).d(V(\"x\"))(x = 5)"
   ]
  },
  {
   "cell_type": "code",
   "execution_count": 141,
   "id": "89699763",
   "metadata": {},
   "outputs": [
    {
     "data": {
      "text/plain": [
       "10"
      ]
     },
     "execution_count": 141,
     "metadata": {},
     "output_type": "execute_result"
    }
   ],
   "source": [
    "(V(\"y\") + V(\"x\")*V(\"x\")).d(V(\"x\"))(x = 5)"
   ]
  },
  {
   "cell_type": "code",
   "execution_count": 142,
   "id": "601ae81b",
   "metadata": {},
   "outputs": [
    {
     "data": {
      "text/plain": [
       "-0.12"
      ]
     },
     "execution_count": 142,
     "metadata": {},
     "output_type": "execute_result"
    }
   ],
   "source": [
    "(V(\"y\") + V(\"y\") / V(\"x\")).d(V(\"x\"))(x = 5, y = 3)"
   ]
  },
  {
   "cell_type": "code",
   "execution_count": 143,
   "id": "f90ffa6f",
   "metadata": {},
   "outputs": [
    {
     "data": {
      "text/plain": [
       "-2"
      ]
     },
     "execution_count": 143,
     "metadata": {},
     "output_type": "execute_result"
    }
   ],
   "source": [
    "-V(\"x\")(x = 2)"
   ]
  },
  {
   "cell_type": "markdown",
   "id": "68648251",
   "metadata": {},
   "source": [
    "## Перегрузка операторов"
   ]
  },
  {
   "cell_type": "markdown",
   "id": "49be6b43",
   "metadata": {
    "ExecuteTime": {
     "end_time": "2024-11-12T16:56:10.954760Z",
     "start_time": "2024-11-12T16:56:10.934054Z"
    }
   },
   "source": [
    "Добавьте перегрузку операторов в базовых класс `Expr`. Обратите что в классах мы можем тоже заменить на использование операторов.\n",
    "```python  \n",
    "-e         e.__neg__()\n",
    "+e         e.__pos__()\n",
    "e1 + e2    e1.__add__(e2)\n",
    "e1 - e2    e1.__sub__(e2)\n",
    "e1 * e2    e1.__mul__(e2)\n",
    "e1 / e2    e1.__truediv__(e2)\n",
    "```\n",
    "\n",
    "**Пример использования:**\n",
    "\n",
    "```python\n",
    "(V(\"x\") * V(\"x\") / V(\"y\"))(x=5, y=2.5)\n",
    "10.0\n",
    "```"
   ]
  },
  {
   "cell_type": "markdown",
   "id": "d8c4e847",
   "metadata": {
    "ExecuteTime": {
     "end_time": "2024-11-12T17:15:20.644716Z",
     "start_time": "2024-11-12T17:15:20.631450Z"
    }
   },
   "source": [
    "## Метод Ньютона-Рафсона"
   ]
  },
  {
   "cell_type": "markdown",
   "id": "c2ff4b5b",
   "metadata": {},
   "source": [
    "Напишите функцию `newton_raphson`, которая принимает дифференцируемую функцию  $f$  от переменной  $x$ , начальное приближение  $x_0$ , и положительное число  $\\epsilon$ , задающее точность вычислений. Функция должна возвращать значение  $x$ , при котором  $f(x)$  становится равным нулю. Метод Ньютона-Рафсона выполняет итеративный поиск корня функции  $f(x)$ , начиная с начального значения  $x_0$ , и использует правило  \n",
    "$$x_{n+1} = x_n - \\frac{f(x_n)}{f{\\prime}(x_n)}$$  \n",
    "для обновления  $x$  на каждом шаге. Итерации продолжаются до тех пор, пока условие остановки  $|x_{n+1} - x_n| \\leq \\epsilon$  не будет выполнено.\n",
    "\n",
    "**Пример использования:**\n",
    "\n",
    "```python\n",
    "x = Var(\"x\")\n",
    "f = Const(-5) * x * x * x * x * x + Const(3) * x + Const(2)\n",
    "zero = newton_raphson(f, 0.5, eps=1e-4)\n",
    "zero, f(x=zero)\n",
    "(1.000000000001132, -2.490496697760136e-11)\n",
    "```"
   ]
  },
  {
   "cell_type": "code",
   "execution_count": 144,
   "id": "5e185229",
   "metadata": {},
   "outputs": [],
   "source": [
    "def newton_raphson(expr, x0, eps=1e-4):\n",
    "    x = V(\"x\")\n",
    "    prev = x0\n",
    "    xn = x0 + 2*eps\n",
    "    q = x - (expr / expr.d(x))\n",
    "\n",
    "    while abs(xn - prev) > eps:\n",
    "        prev = xn\n",
    "        xn = q(x=xn)\n",
    "\n",
    "    return xn"
   ]
  },
  {
   "cell_type": "code",
   "execution_count": 145,
   "id": "f71821e1",
   "metadata": {},
   "outputs": [
    {
     "data": {
      "text/plain": [
       "(1.000000000001132, -2.490496697760136e-11)"
      ]
     },
     "execution_count": 145,
     "metadata": {},
     "output_type": "execute_result"
    }
   ],
   "source": [
    "x = Var(\"x\")\n",
    "f = Const(-5) * x * x * x * x * x + Const(3) * x + Const(2)\n",
    "zero = newton_raphson(f, 0.5, eps=1e-4)\n",
    "zero, f(x=zero)"
   ]
  },
  {
   "cell_type": "markdown",
   "id": "b65156ea",
   "metadata": {},
   "source": [
    "## ТЕСТЫ"
   ]
  },
  {
   "cell_type": "code",
   "execution_count": 146,
   "id": "4dfd0555",
   "metadata": {},
   "outputs": [],
   "source": [
    "x = Var(\"x\")\n",
    "y = Var(\"y\")\n",
    "z = Var(\"z\")"
   ]
  },
  {
   "cell_type": "markdown",
   "id": "e497b96e",
   "metadata": {},
   "source": [
    "- Сложение"
   ]
  },
  {
   "cell_type": "code",
   "execution_count": 147,
   "id": "82b6dee6",
   "metadata": {},
   "outputs": [],
   "source": [
    "def test_add_standard1(x, y):\n",
    "    assert (x + y)(x = 1, y = 1) == 2 #test_add_standard1\n",
    "\n",
    "def test_add_standard2(x, y):\n",
    "    assert (x + y)(x = 2, y = 5) == 7 #test_add_standard2\n",
    "\n",
    "def test_add_zeros(x, y):\n",
    "    assert (x + y)(x = 0, y = 0) == 0 #test_add_zeros\n",
    "\n",
    "def test_add_negneg(x, y):\n",
    "    assert (x + y)(x = -1, y = -1) == -2 #test_add_negneg\n",
    "\n",
    "def test_add_negpos(x, y):\n",
    "    assert (x + y)(x = -1, y = 1) == 0 #test_add_negpos"
   ]
  },
  {
   "cell_type": "code",
   "execution_count": 148,
   "id": "e9955d09",
   "metadata": {},
   "outputs": [],
   "source": [
    "test_add_standard1(x, y)\n",
    "test_add_standard2(x, y)\n",
    "test_add_zeros(x, y)\n",
    "test_add_negneg(x, y)\n",
    "test_add_negpos(x, y)"
   ]
  },
  {
   "cell_type": "markdown",
   "id": "255eff11",
   "metadata": {},
   "source": [
    "- Вычитание"
   ]
  },
  {
   "cell_type": "code",
   "execution_count": 149,
   "id": "9e3cf7fc",
   "metadata": {},
   "outputs": [],
   "source": [
    "def test_sub_standard1(x, y):\n",
    "    assert (x - y)(x = 2, y = 1) == 1 #test_sub_standard1\n",
    "\n",
    "def test_sub_standard2(x, y):\n",
    "    assert (x - y)(x = 2, y = 5) == -3 #test_sub_standard2\n",
    "\n",
    "def test_sub_zeros(x, y):\n",
    "    assert (x - y)(x = 0, y = 0) == 0 #test_sub_zeros\n",
    "\n",
    "def test_sub_negneg(x, y):\n",
    "    assert (x - y)(x = -1, y = -1) == 0 #test_sub_negneg\n",
    "\n",
    "def test_sub_negpos(x, y):\n",
    "    assert (x - y)(x = -1, y = 1) == -2 #test_sub_negpos"
   ]
  },
  {
   "cell_type": "code",
   "execution_count": 150,
   "id": "7ded8bb6",
   "metadata": {},
   "outputs": [],
   "source": [
    "test_sub_standard1(x, y)\n",
    "test_sub_standard2(x, y)\n",
    "test_sub_zeros(x, y)\n",
    "test_sub_negneg(x, y)\n",
    "test_sub_negpos(x, y)"
   ]
  },
  {
   "cell_type": "markdown",
   "id": "59a9d20d",
   "metadata": {},
   "source": [
    "- Отрициальное число"
   ]
  },
  {
   "cell_type": "code",
   "execution_count": 151,
   "id": "2ec7f1a3",
   "metadata": {},
   "outputs": [],
   "source": [
    "def test_neg_standard(x):\n",
    "    assert (-x)(x = 2) == -2 #test_neg_standard\n",
    "\n",
    "def test_neg_zero(x):\n",
    "    assert (-x)(x = 0) == 0 #test_neg_zero\n",
    "\n",
    "def test_neg_neg(x):\n",
    "    assert (-x)(x = -2) == 2 #test_neg_neg"
   ]
  },
  {
   "cell_type": "code",
   "execution_count": 152,
   "id": "4c32f3ce",
   "metadata": {},
   "outputs": [],
   "source": [
    "test_neg_standard(x)\n",
    "test_neg_zero(x)\n",
    "test_neg_neg(x)"
   ]
  },
  {
   "cell_type": "markdown",
   "id": "d923682b",
   "metadata": {},
   "source": [
    "- Умножение"
   ]
  },
  {
   "cell_type": "code",
   "execution_count": 153,
   "id": "dbbf4e3a",
   "metadata": {},
   "outputs": [],
   "source": [
    "def test_mul_standard1(x, y):\n",
    "    assert (x * y)(x = 2, y = 1) == 2 #test_mul_standard1\n",
    "\n",
    "def test_mul_standard2(x, y):\n",
    "    assert (x * y)(x = 2, y = 5) == 10 #test_mul_standard2\n",
    "\n",
    "def test_mul_zeros(x, y):\n",
    "    assert (x * y)(x = 0, y = 0) == 0 #test_mul_zeros\n",
    "\n",
    "def test_mul_negneg(x, y):\n",
    "    assert (x * y)(x = -1, y = -1) == 1 #test_mul_negneg\n",
    "\n",
    "def test_mul_negpos(x, y):\n",
    "    assert (x * y)(x = -1, y = 1) == -1 #test_mul_negpos"
   ]
  },
  {
   "cell_type": "code",
   "execution_count": 154,
   "id": "e750d1d0",
   "metadata": {},
   "outputs": [],
   "source": [
    "test_mul_standard1(x, y)\n",
    "test_mul_standard2(x, y)\n",
    "test_mul_zeros(x, y)\n",
    "test_mul_negneg(x, y)\n",
    "test_mul_negpos(x, y)"
   ]
  },
  {
   "cell_type": "markdown",
   "id": "af8eb6f5",
   "metadata": {},
   "source": [
    "- Деление"
   ]
  },
  {
   "cell_type": "code",
   "execution_count": 155,
   "id": "4a4a94da",
   "metadata": {},
   "outputs": [],
   "source": [
    "def test_div_standard1(x, y):\n",
    "    assert (x / y)(x = 2, y = 2) == 1.0 #test_div_standard1\n",
    "\n",
    "def test_div_standard2(x, y):\n",
    "    assert (x / y)(x = 2, y = 5) == 0.4 #test_div_standard2\n",
    "\n",
    "def test_div_zero(x, y):\n",
    "    assert (x / y)(x = 0, y = 1) == 0 #test_div_zero\n",
    "\n",
    "def test_div_negneg(x, y):\n",
    "    assert (x / y)(x = -1, y = -5) == 0.2 #test_div_negneg\n",
    "\n",
    "def test_div_negpos(x, y):\n",
    "    assert (x / y)(x = -5, y = 2) == -2.5 #test_div_negpos"
   ]
  },
  {
   "cell_type": "code",
   "execution_count": 156,
   "id": "188e71ef",
   "metadata": {},
   "outputs": [],
   "source": [
    "test_div_standard1(x, y)\n",
    "test_div_standard2(x, y)\n",
    "test_div_zero(x, y)\n",
    "test_div_negneg(x, y)\n",
    "test_div_negpos(x, y)"
   ]
  },
  {
   "cell_type": "markdown",
   "id": "799d659b",
   "metadata": {},
   "source": [
    "- Тесты производных для всех пяти функций"
   ]
  },
  {
   "cell_type": "code",
   "execution_count": 157,
   "id": "37a11f04",
   "metadata": {},
   "outputs": [],
   "source": [
    "def test_d_neg(x):\n",
    "     assert (-x).d(x)(x = 2) == -1 #test_d_neg\n",
    "\n",
    "def test_d_add(x, y):\n",
    "     assert (y + x).d(x)(x = 2) == 1 #test_d_add(x)\n",
    "     assert (y + x).d(y)(x = 2) == 1 #test_d_add(y)\n",
    "\n",
    "def test_d_sub(x, y):\n",
    "     assert (y - x).d(x)(x = 2) == -1 #test_d_sub(x)\n",
    "     assert (y - x).d(y)(x = 2) == 1 #test_d_sub(y)\n",
    "\n",
    "def test_d_mul(x, y):\n",
    "     assert (y * x).d(x)(x = 2, y = 1) == 1 #test_d_mul(x)\n",
    "     assert (y * x).d(y)(x = 2, y = 1) == 2 #test_d_mul(y)\n",
    "\n",
    "def test_d_div(x, y):\n",
    "     assert (y / x).d(x)(x = 2, y = 1) == -0.25 #test_d_div(x)\n",
    "     assert (y / x).d(y)(x = 2, y = 1) == 0.5 #test_d_div(y)"
   ]
  },
  {
   "cell_type": "code",
   "execution_count": 158,
   "id": "bb568c57",
   "metadata": {},
   "outputs": [],
   "source": [
    "test_d_neg(x)\n",
    "test_d_add(x, y)\n",
    "test_d_sub(x, y)\n",
    "test_d_mul(x, y)\n",
    "test_d_div(x, y)"
   ]
  },
  {
   "cell_type": "markdown",
   "id": "24f13b8a",
   "metadata": {},
   "source": [
    "- Тесты метода Ньютона"
   ]
  },
  {
   "cell_type": "code",
   "execution_count": 159,
   "id": "46063a67",
   "metadata": {},
   "outputs": [],
   "source": [
    "def test_Newton_standard1():\n",
    "    x = Var(\"x\")\n",
    "    f = Const(-5) * x * x * x * x * x + Const(3) * x + Const(2)\n",
    "    real = 1\n",
    "    eps=1e-10\n",
    "    zero = newton_raphson(f, 0.5, eps)\n",
    "    assert abs(zero - real) < eps #test_Newton_standard1()\n",
    "\n",
    "def test_Newton_standard2():\n",
    "    x = Var(\"x\")\n",
    "    f = Const(-1) * x * x + Const(3) * x + Const(1)\n",
    "    real = 3.30278\n",
    "    eps=1e-5\n",
    "    zero = newton_raphson(f, 4, eps)\n",
    "    assert abs(zero - real) < eps #test_Newton_standard2()\n",
    "    \n",
    "def test_Newton_standard3():\n",
    "    x = Var(\"x\")\n",
    "    f = Const(-1) * x * x * x * x * x * x * x * x * x * x + Const(10) * x * x * x * x + Const(-10)\n",
    "    real = 1.39458\n",
    "    eps=1e-3\n",
    "    zero = newton_raphson(f, 4, eps)\n",
    "    assert abs(zero - real) < eps #test_Newton_standard3()"
   ]
  },
  {
   "cell_type": "code",
   "execution_count": 160,
   "id": "7f6bd804",
   "metadata": {},
   "outputs": [],
   "source": [
    "test_Newton_standard1()\n",
    "test_Newton_standard2()\n",
    "test_Newton_standard3()"
   ]
  },
  {
   "cell_type": "markdown",
   "id": "f0cfdc6d",
   "metadata": {},
   "source": [
    "- Запустим все тесты вместе"
   ]
  },
  {
   "cell_type": "code",
   "execution_count": 161,
   "id": "810f9816",
   "metadata": {},
   "outputs": [],
   "source": [
    "def all_tests(x, y):\n",
    "    test_add_standard1(x, y)\n",
    "    test_add_standard2(x, y)\n",
    "    test_add_zeros(x, y)\n",
    "    test_add_negneg(x, y)\n",
    "    test_add_negpos(x, y)\n",
    "\n",
    "    test_sub_standard1(x, y)\n",
    "    test_sub_standard2(x, y)\n",
    "    test_sub_zeros(x, y)\n",
    "    test_sub_negneg(x, y)\n",
    "    test_sub_negpos(x, y)\n",
    "\n",
    "    test_neg_standard(x)\n",
    "    test_neg_zero(x)\n",
    "    test_neg_neg(x)\n",
    "\n",
    "    test_mul_standard1(x, y)\n",
    "    test_mul_standard2(x, y)\n",
    "    test_mul_zeros(x, y)\n",
    "    test_mul_negneg(x, y)\n",
    "    test_mul_negpos(x, y)\n",
    "\n",
    "    test_div_standard1(x, y)\n",
    "    test_div_standard2(x, y)\n",
    "    test_div_zero(x, y)\n",
    "    test_div_negneg(x, y)\n",
    "    test_div_negpos(x, y)\n",
    "\n",
    "    test_d_neg(x)\n",
    "    test_d_add(x, y)\n",
    "    test_d_sub(x, y)\n",
    "    test_d_mul(x, y)\n",
    "    test_d_div(x, y)\n",
    "\n",
    "    test_Newton_standard1()\n",
    "    test_Newton_standard2()\n",
    "    test_Newton_standard3()\n",
    "\n",
    "    print('OK')\n",
    "\n",
    "    "
   ]
  },
  {
   "cell_type": "code",
   "execution_count": 162,
   "id": "66fd177a",
   "metadata": {},
   "outputs": [
    {
     "name": "stdout",
     "output_type": "stream",
     "text": [
      "OK\n"
     ]
    }
   ],
   "source": [
    "all_tests(x, y)"
   ]
  }
 ],
 "metadata": {
  "kernelspec": {
   "display_name": "Python 3",
   "language": "python",
   "name": "python3"
  },
  "language_info": {
   "codemirror_mode": {
    "name": "ipython",
    "version": 3
   },
   "file_extension": ".py",
   "mimetype": "text/x-python",
   "name": "python",
   "nbconvert_exporter": "python",
   "pygments_lexer": "ipython3",
   "version": "3.10.12"
  }
 },
 "nbformat": 4,
 "nbformat_minor": 5
}

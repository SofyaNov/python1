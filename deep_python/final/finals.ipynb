{
 "cells": [
  {
   "cell_type": "markdown",
   "id": "4feb6bdc",
   "metadata": {},
   "source": [
    "# Конторальная работа"
   ]
  },
  {
   "cell_type": "markdown",
   "id": "4b6631bd",
   "metadata": {},
   "source": [
    "## Порядок сдачи"
   ]
  },
  {
   "cell_type": "markdown",
   "id": "bee4fcc0",
   "metadata": {},
   "source": [
    "Каждое задание оценивается в 10 баллов. Код нужно отправить напрямую в СДО как текст. Перед сдачей проверьте код, напишите тесты. Не забудьте про `PEP8`, например, с помощью `flake8`.\n",
    "\n",
    "Дедлайн - 9 декабря 10:00"
   ]
  },
  {
   "cell_type": "markdown",
   "id": "d777f71d",
   "metadata": {
    "ExecuteTime": {
     "end_time": "2024-11-03T13:46:28.412754Z",
     "start_time": "2024-11-03T13:46:28.400723Z"
    }
   },
   "source": [
    "## Разворот строки"
   ]
  },
  {
   "cell_type": "markdown",
   "id": "922a2c11",
   "metadata": {
    "ExecuteTime": {
     "end_time": "2024-11-29T05:14:51.098358Z",
     "start_time": "2024-11-29T05:14:51.077875Z"
    }
   },
   "source": [
    "Напишите функцию, которая принимает строку в качестве входного параметра и возвращает новую строку, в которой символы исходной строки расположены в обратном порядке."
   ]
  },
  {
   "cell_type": "code",
   "execution_count": 502,
   "id": "806e728c",
   "metadata": {
    "ExecuteTime": {
     "end_time": "2024-11-29T05:16:11.730919Z",
     "start_time": "2024-11-29T05:16:11.713903Z"
    }
   },
   "outputs": [
    {
     "name": "stdout",
     "output_type": "stream",
     "text": [
      "OK\n"
     ]
    }
   ],
   "source": [
    "def reverse_string(s):\n",
    "    output = ''\n",
    "    for i in range(len(s) - 1, -1, -1):\n",
    "        output += s[i]\n",
    "    return output\n",
    "\n",
    "assert reverse_string('hello') == 'olleh'\n",
    "assert reverse_string('Привет') == 'тевирП'\n",
    "assert reverse_string('12345') == '54321'\n",
    "print('OK')"
   ]
  },
  {
   "cell_type": "markdown",
   "id": "4e5cb30c",
   "metadata": {},
   "source": [
    "# Ромб"
   ]
  },
  {
   "cell_type": "markdown",
   "id": "5cfea6f0",
   "metadata": {},
   "source": [
    "Напишите функцию, которая выводит на экран ромб, составленный из символов звёздочек `*`. Размер ромба определяется введённым пользователем нечётным числом n, которое задаёт ширину (и высоту) ромба в его самой широкой части."
   ]
  },
  {
   "cell_type": "code",
   "execution_count": 503,
   "id": "4b19f7e2",
   "metadata": {},
   "outputs": [
    {
     "name": "stdout",
     "output_type": "stream",
     "text": [
      "   *   \n",
      "  ***  \n",
      " ***** \n",
      "*******\n",
      " ***** \n",
      "  ***  \n",
      "   *   \n",
      "\n"
     ]
    }
   ],
   "source": [
    "def draw(n):\n",
    "    row_len = n\n",
    "    output = ''\n",
    "    for i in range(n // 2):\n",
    "        figures = 2 * i + 1\n",
    "        output += ' ' * ((row_len - figures) // 2) + '*' * figures + ' ' * ((row_len - figures) // 2) + '\\n'\n",
    "    for i in range(n // 2, -1, -1):\n",
    "        figures = 2 * i + 1\n",
    "        output += ' ' * ((row_len - figures) // 2) + '*' * figures + ' ' * ((row_len - figures) // 2) + '\\n'\n",
    "    return output\n",
    "\n",
    "print(draw(7))"
   ]
  },
  {
   "cell_type": "markdown",
   "id": "a86c90c8",
   "metadata": {},
   "source": [
    "# НОД"
   ]
  },
  {
   "cell_type": "markdown",
   "id": "3f967b9f",
   "metadata": {
    "ExecuteTime": {
     "end_time": "2024-11-29T05:21:08.316284Z",
     "start_time": "2024-11-29T05:21:08.286749Z"
    }
   },
   "source": [
    "Напишите функцию, которая вычисляет наибольший общий делитель (НОД) двух целых чисел."
   ]
  },
  {
   "cell_type": "code",
   "execution_count": 504,
   "id": "de608275",
   "metadata": {},
   "outputs": [
    {
     "name": "stdout",
     "output_type": "stream",
     "text": [
      "OK\n"
     ]
    }
   ],
   "source": [
    "def gcd(a, b):\n",
    "    while (a != 0 and b != 0):\n",
    "        if (a > b):\n",
    "            a %= b\n",
    "        else:\n",
    "            b %= a\n",
    "    return max(a, b)\n",
    "\n",
    "assert gcd(48, 18) == 6\n",
    "assert gcd(100, 25) == 25\n",
    "assert gcd(17, 13) == 1\n",
    "print('OK')"
   ]
  },
  {
   "cell_type": "markdown",
   "id": "49641d4f",
   "metadata": {
    "ExecuteTime": {
     "end_time": "2024-11-29T05:22:49.681923Z",
     "start_time": "2024-11-29T05:22:49.657297Z"
    }
   },
   "source": [
    "# Система счисления"
   ]
  },
  {
   "cell_type": "markdown",
   "id": "82e1a3cf",
   "metadata": {},
   "source": [
    "Напишите функцию, которая принимает строковое представление числа в произвольной системе (макс. 36) счисления и его основание, и возвращает это число в десятичной системе счисления."
   ]
  },
  {
   "cell_type": "code",
   "execution_count": 505,
   "id": "0365d57b",
   "metadata": {
    "ExecuteTime": {
     "end_time": "2024-11-29T05:23:50.498455Z",
     "start_time": "2024-11-29T05:23:50.480951Z"
    }
   },
   "outputs": [
    {
     "name": "stdout",
     "output_type": "stream",
     "text": [
      "OK\n"
     ]
    }
   ],
   "source": [
    "def convert_to_decimal(number_str, base):\n",
    "    length = len(number_str) - 1\n",
    "    dec = 0\n",
    "    for i in number_str:\n",
    "        if (65 <= ord(i) <= 90):\n",
    "            dec += (ord(i) - 65 + 10) * base**(length)\n",
    "        elif (48 <= ord(i) <= 57):\n",
    "            dec += (ord(i) - 48) * base**(length)\n",
    "        else:\n",
    "            raise ValueError\n",
    "        length -= 1\n",
    "    return dec\n",
    "\n",
    "assert convert_to_decimal(\"1010\", 2) == 10\n",
    "assert convert_to_decimal(\"1A\", 16) == 26\n",
    "assert convert_to_decimal(\"123\", 8) == 83\n",
    "assert convert_to_decimal(\"Z\", 36) == 35\n",
    "print('OK')"
   ]
  },
  {
   "cell_type": "markdown",
   "id": "be9f88ed",
   "metadata": {
    "ExecuteTime": {
     "end_time": "2024-11-29T05:24:07.620180Z",
     "start_time": "2024-11-29T05:24:07.594765Z"
    }
   },
   "source": [
    "# Палиндром"
   ]
  },
  {
   "cell_type": "markdown",
   "id": "f0a84a85",
   "metadata": {},
   "source": [
    "Напишите функцию, которая проверяет, является ли заданная строка палиндромом."
   ]
  },
  {
   "cell_type": "code",
   "execution_count": 506,
   "id": "70581d0a",
   "metadata": {
    "ExecuteTime": {
     "end_time": "2024-11-29T05:25:32.462861Z",
     "start_time": "2024-11-29T05:25:32.440252Z"
    }
   },
   "outputs": [
    {
     "name": "stdout",
     "output_type": "stream",
     "text": [
      "OK\n"
     ]
    }
   ],
   "source": [
    "def is_palindrome(s):\n",
    "    s = s.lower()\n",
    "    length = len(s) - 1\n",
    "    for i in range(length):\n",
    "        if s[i] != s[length - i]:\n",
    "            return False\n",
    "    return True\n",
    "\n",
    "assert is_palindrome('мадам')\n",
    "assert is_palindrome('топот')\n",
    "assert not is_palindrome('привет')\n",
    "print('OK')"
   ]
  },
  {
   "cell_type": "markdown",
   "id": "71e9e2d5",
   "metadata": {},
   "source": [
    "# k порядковая статистика"
   ]
  },
  {
   "cell_type": "markdown",
   "id": "6684874d",
   "metadata": {},
   "source": [
    "Напишите функцию, которая принимает массив чисел и целое число $k$, и вычисляет количество элементов в массиве, которые больше, чем элемент, находящийся на позиции $k$ в упорядоченном по возрастанию массиве (т.е. больше, чем $k$-я порядковая статистика)."
   ]
  },
  {
   "cell_type": "code",
   "execution_count": 507,
   "id": "44ed558c",
   "metadata": {},
   "outputs": [
    {
     "name": "stdout",
     "output_type": "stream",
     "text": [
      "OK\n"
     ]
    }
   ],
   "source": [
    "def count_greater_than_kth(arr, k):\n",
    "    return len(arr) - k \n",
    "\n",
    "arr = [5, 3, 8, 6, 2]\n",
    "k = 3\n",
    "result = count_greater_than_kth(arr, k)\n",
    "assert result == 2\n",
    "print('OK')"
   ]
  },
  {
   "cell_type": "markdown",
   "id": "77efd0dc",
   "metadata": {},
   "source": [
    "# Уникальные подстроки"
   ]
  },
  {
   "cell_type": "markdown",
   "id": "46fef851",
   "metadata": {},
   "source": [
    "Напишите функцию, которая принимает строку и целое число k, и подсчитывает количество уникальных подстрок длины k в этом тексте."
   ]
  },
  {
   "cell_type": "code",
   "execution_count": 508,
   "id": "424e65b3",
   "metadata": {},
   "outputs": [
    {
     "name": "stdout",
     "output_type": "stream",
     "text": [
      "OK\n"
     ]
    }
   ],
   "source": [
    "def count_unique_substrings(text, k):\n",
    "    output = set()\n",
    "    for i in range(len(text) - k + 1):\n",
    "        output.add(text[i:(k+i)])\n",
    "    return len(output)\n",
    "        \n",
    "\n",
    "text = \"abcabc\"\n",
    "k = 3\n",
    "result = count_unique_substrings(text, k)\n",
    "assert result == 3\n",
    "print('OK')"
   ]
  },
  {
   "cell_type": "markdown",
   "id": "cf18ac36",
   "metadata": {},
   "source": [
    "# Минимум"
   ]
  },
  {
   "cell_type": "markdown",
   "id": "9877ee9c",
   "metadata": {},
   "source": [
    "Напишите функцию, которая для заданного целого числа N находит такие целые положительные числа $a, b, c$, что произведение $a * b * c = N$, и сумма $a + b + c$ минимальна."
   ]
  },
  {
   "cell_type": "code",
   "execution_count": 509,
   "id": "d9d979e2",
   "metadata": {},
   "outputs": [
    {
     "name": "stdout",
     "output_type": "stream",
     "text": [
      "OK\n"
     ]
    }
   ],
   "source": [
    "def minimum(n):\n",
    "    min_sum = float(\"inf\")\n",
    "    best_triplet = ()\n",
    "\n",
    "    for a in range(1, int(n**(1/3)) + 1):\n",
    "        if n % a == 0:\n",
    "            for b in range(a, int((n/a)**(0.5)) + 1):\n",
    "                if (n // a) % b == 0:\n",
    "                    c = n // (a * b)\n",
    "                    if c >= b:\n",
    "                        current_sum = a + b + c\n",
    "                        if current_sum < min_sum:\n",
    "                            min_sum = current_sum\n",
    "                            best_triplet = (a, b, c)\n",
    "\n",
    "    return best_triplet\n",
    "                    \n",
    "\n",
    "assert minimum(12) == (2, 2, 3)\n",
    "assert minimum(27) == (3, 3, 3)\n",
    "assert minimum(7) == (1, 1, 7)\n",
    "print('OK')"
   ]
  },
  {
   "cell_type": "markdown",
   "id": "9e5b32c1",
   "metadata": {
    "ExecuteTime": {
     "end_time": "2024-11-29T05:39:16.335011Z",
     "start_time": "2024-11-29T05:39:16.321409Z"
    }
   },
   "source": [
    "# Определитель"
   ]
  },
  {
   "cell_type": "markdown",
   "id": "1458eff3",
   "metadata": {
    "ExecuteTime": {
     "end_time": "2024-11-29T05:39:34.497125Z",
     "start_time": "2024-11-29T05:39:34.474266Z"
    }
   },
   "source": [
    "Напишите функцию, которая вычисляет определитель заданной квадратной матрицы."
   ]
  },
  {
   "cell_type": "code",
   "execution_count": 510,
   "id": "40491c23",
   "metadata": {},
   "outputs": [
    {
     "name": "stdout",
     "output_type": "stream",
     "text": [
      "OK\n"
     ]
    }
   ],
   "source": [
    "def determinant(matrix):\n",
    "    n = len(matrix)\n",
    "    L = [[0.0] * n for _ in range(n)]\n",
    "    U = [[0.0] * n for _ in range(n)]\n",
    "\n",
    "    for i in range(n):\n",
    "        for k in range(i, n):\n",
    "            sum_u = sum(L[i][j] * U[j][k] for j in range(i))\n",
    "            U[i][k] = matrix[i][k] - sum_u\n",
    "\n",
    "        for k in range(i, n):\n",
    "            if i == k:\n",
    "                L[i][i] = 1.0\n",
    "            else:\n",
    "                sum_l = sum(L[k][j] * U[j][i] for j in range(i))\n",
    "                if U[i][i] == 0:\n",
    "                    return 0\n",
    "                L[k][i] = (matrix[k][i] - sum_l) / U[i][i]\n",
    "\n",
    "    output = 1\n",
    "    for i in range(n):\n",
    "        output *= U[i][i]\n",
    "    return output\n",
    "        \n",
    "\n",
    "matrix = [\n",
    "    [1, 2],\n",
    "    [3, 4]\n",
    "]\n",
    "result = determinant(matrix)\n",
    "assert result == -2.0\n",
    "print('OK')"
   ]
  },
  {
   "cell_type": "markdown",
   "id": "c9983f43",
   "metadata": {},
   "source": [
    "# Скобочная последовательность"
   ]
  },
  {
   "cell_type": "markdown",
   "id": "e776102b",
   "metadata": {},
   "source": [
    "Напишите функцию, которая проверяет правильность скобочной последовательности в заданной строке. Последовательность считается правильной, если все открывающиеся скобки корректно закрываются соответствующими закрывающими скобками в правильном порядке."
   ]
  },
  {
   "cell_type": "code",
   "execution_count": 511,
   "id": "0afd220e",
   "metadata": {},
   "outputs": [
    {
     "name": "stdout",
     "output_type": "stream",
     "text": [
      "OK\n"
     ]
    }
   ],
   "source": [
    "def is_valid_sequence(s):\n",
    "    stack = []\n",
    "    for c in s:\n",
    "        if c == '(' or c == '{' or c == '[':\n",
    "            stack.append(c)\n",
    "        else:\n",
    "            if stack.pop() + c not in ('{}', '()', '[]'):\n",
    "                return False\n",
    "    return len(stack) == 0\n",
    "\n",
    "s = \"({[]})\"\n",
    "result = is_valid_sequence(s)\n",
    "assert result\n",
    "s = \"({[}])\"\n",
    "result = is_valid_sequence(s)\n",
    "assert not result\n",
    "print('OK')"
   ]
  }
 ],
 "metadata": {
  "kernelspec": {
   "display_name": "Python 3",
   "language": "python",
   "name": "python3"
  },
  "language_info": {
   "codemirror_mode": {
    "name": "ipython",
    "version": 3
   },
   "file_extension": ".py",
   "mimetype": "text/x-python",
   "name": "python",
   "nbconvert_exporter": "python",
   "pygments_lexer": "ipython3",
   "version": "3.10.12"
  }
 },
 "nbformat": 4,
 "nbformat_minor": 5
}
